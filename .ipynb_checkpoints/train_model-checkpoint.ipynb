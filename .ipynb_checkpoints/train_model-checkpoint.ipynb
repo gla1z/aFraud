{
 "cells": [
  {
   "cell_type": "code",
   "execution_count": 14,
   "id": "99daa973-1763-4e36-aa4c-cf8623bc654a",
   "metadata": {},
   "outputs": [],
   "source": [
    "import pandas as pd"
   ]
  },
  {
   "cell_type": "code",
   "execution_count": 15,
   "id": "fef5b13c-ea16-4caa-80f1-848edf1d2815",
   "metadata": {},
   "outputs": [],
   "source": [
    "from sklearn.model_selection import train_test_split"
   ]
  },
  {
   "cell_type": "code",
   "execution_count": 16,
   "id": "a9129d2d-0b57-4010-b316-ba48f9fad273",
   "metadata": {},
   "outputs": [],
   "source": [
    "from sklearn.ensemble import RandomForestClassifier"
   ]
  },
  {
   "cell_type": "code",
   "execution_count": 17,
   "id": "ce74dd9e-0dcb-4672-9367-378f2dfbfd2c",
   "metadata": {},
   "outputs": [],
   "source": [
    "from sklearn.metrics import classification_report"
   ]
  },
  {
   "cell_type": "code",
   "execution_count": 18,
   "id": "b77973a2-e41d-4408-85a9-5f9043998881",
   "metadata": {},
   "outputs": [],
   "source": [
    "import pickle"
   ]
  },
  {
   "cell_type": "markdown",
   "id": "88d386dc-4ed1-44ec-993a-7f78ffe255d9",
   "metadata": {},
   "source": [
    "# Пример синтеческого набора данных"
   ]
  },
  {
   "cell_type": "code",
   "execution_count": 10,
   "id": "7fdcb6a6-e6d3-437b-8908-3b5af57b88c0",
   "metadata": {},
   "outputs": [],
   "source": [
    "data = pd.DataFrame([\n",
    "    {\"amount\": 1000, \"country\": \"RU\", \"merchant_id\": \"m1\", \"is_fraud\": 0},\n",
    "    {\"amount\": 7000, \"country\": \"US\", \"merchant_id\": \"\", \"is_fraud\": 1},\n",
    "    {\"amount\": 3000, \"country\": \"RU\", \"merchant_id\": \"m2\", \"is_fraud\": 0},\n",
    "    {\"amount\": 8500, \"country\": \"CN\", \"merchant_id\": None, \"is_fraud\": 1},\n",
    "    {\"amount\": 1200, \"country\": \"KZ\", \"merchant_id\": \"m4\", \"is_fraud\": 0},\n",
    "    {\"amount\": 9100, \"country\": \"US\", \"merchant_id\": \"m1\", \"is_fraud\": 1}\n",
    "])"
   ]
  },
  {
   "cell_type": "markdown",
   "id": "9edfebe9-a72c-47d6-988c-bda969ab9a17",
   "metadata": {},
   "source": [
    "# Предобработка"
   ]
  },
  {
   "cell_type": "code",
   "execution_count": 11,
   "id": "cda0ce85-4013-415c-bf08-27f6c4b19389",
   "metadata": {},
   "outputs": [],
   "source": [
    "data[\"merchant_id\"] = data[\"merchant_id\"].fillna(\"unknown\")\n",
    "data[\"missing_merchant\"] = data[\"merchant_id\"].apply(lambda x: 1 if x == \"\" or x == \"unknown\" else 0)\n",
    "data[\"country_risk\"] = data[\"country\"].apply(lambda c: 1 if c not in [\"RU\", \"BY\", \"KZ\"] else 0)"
   ]
  },
  {
   "cell_type": "code",
   "execution_count": 13,
   "id": "b0a8a8fe-63c0-403c-9b23-f4e6ae12cbe1",
   "metadata": {},
   "outputs": [],
   "source": [
    "X = data[[\"amount\", \"missing_merchant\", \"country_risk\"]]\n",
    "y = data[\"is_fraud\"]"
   ]
  },
  {
   "cell_type": "markdown",
   "id": "259ca4df-8bdd-4128-bba3-2490759d71fc",
   "metadata": {},
   "source": [
    "# Обучение модели"
   ]
  },
  {
   "cell_type": "code",
   "execution_count": null,
   "id": "401e3023-6f50-451b-9fbf-34c61541d65f",
   "metadata": {},
   "outputs": [],
   "source": [
    "X_train, X_test, y_t"
   ]
  },
  {
   "cell_type": "code",
   "execution_count": null,
   "id": "af713f4a-b416-404e-8b55-2be66db1739c",
   "metadata": {},
   "outputs": [],
   "source": []
  }
 ],
 "metadata": {
  "kernelspec": {
   "display_name": "Python 3 (ipykernel)",
   "language": "python",
   "name": "python3"
  },
  "language_info": {
   "codemirror_mode": {
    "name": "ipython",
    "version": 3
   },
   "file_extension": ".py",
   "mimetype": "text/x-python",
   "name": "python",
   "nbconvert_exporter": "python",
   "pygments_lexer": "ipython3",
   "version": "3.13.1"
  }
 },
 "nbformat": 4,
 "nbformat_minor": 5
}
